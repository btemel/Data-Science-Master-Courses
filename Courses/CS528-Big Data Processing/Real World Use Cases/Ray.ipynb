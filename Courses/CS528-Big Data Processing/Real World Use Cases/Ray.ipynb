{
 "cells": [
  {
   "cell_type": "code",
   "execution_count": 1,
   "id": "d88e2c06",
   "metadata": {},
   "outputs": [],
   "source": [
    "import os\n",
    "import time\n",
    "import ray\n",
    "\n",
    "# Normal Python\n",
    "def fibonacci_local(sequence_size):\n",
    "    fibonacci = []\n",
    "    for i in range(0, sequence_size):\n",
    "        if i < 2:\n",
    "            fibonacci.append(i)\n",
    "            continue\n",
    "        fibonacci.append(fibonacci[i-1]+fibonacci[i-2])\n",
    "    return sequence_size\n",
    "\n",
    "# Ray task\n",
    "@ray.remote\n",
    "def fibonacci_distributed(sequence_size):\n",
    "    fibonacci = []\n",
    "    for i in range(0, sequence_size):\n",
    "        if i < 2:\n",
    "            fibonacci.append(i)\n",
    "            continue\n",
    "        fibonacci.append(fibonacci[i-1]+fibonacci[i-2])\n",
    "    return sequence_size"
   ]
  },
  {
   "cell_type": "code",
   "execution_count": 2,
   "id": "057a21b8",
   "metadata": {},
   "outputs": [
    {
     "data": {
      "text/plain": [
       "4"
      ]
     },
     "execution_count": 2,
     "metadata": {},
     "output_type": "execute_result"
    }
   ],
   "source": [
    "os.cpu_count()"
   ]
  },
  {
   "cell_type": "code",
   "execution_count": 3,
   "id": "1ea9b4ec",
   "metadata": {},
   "outputs": [],
   "source": [
    "# Normal Python\n",
    "def run_local(sequence_size):\n",
    "    start_time = time.time()\n",
    "    results = [fibonacci_local(sequence_size) for _ in range(os.cpu_count())]\n",
    "    duration = time.time() - start_time\n",
    "    print('Sequence size: {}, Local execution time: {}'.format(sequence_size, duration))\n",
    "\n",
    "# Ray\n",
    "def run_remote(sequence_size):\n",
    "    # Starting Ray\n",
    "    ray.init()\n",
    "    start_time = time.time()\n",
    "    results = ray.get([fibonacci_distributed.remote(sequence_size) for _ in range(os.cpu_count())])\n",
    "    duration = time.time() - start_time\n",
    "    print('Sequence size: {}, Remote execution time: {}'.format(sequence_size, duration))  "
   ]
  },
  {
   "cell_type": "code",
   "execution_count": 4,
   "id": "32350523",
   "metadata": {},
   "outputs": [
    {
     "name": "stdout",
     "output_type": "stream",
     "text": [
      "Sequence size: 100000, Local execution time: 1.423630714416504\n"
     ]
    }
   ],
   "source": [
    "run_local(100000)"
   ]
  },
  {
   "cell_type": "code",
   "execution_count": 5,
   "id": "4dc76297",
   "metadata": {},
   "outputs": [
    {
     "name": "stderr",
     "output_type": "stream",
     "text": [
      "2022-05-12 17:49:32,173\tINFO services.py:1456 -- View the Ray dashboard at \u001b[1m\u001b[32mhttp://127.0.0.1:8265\u001b[39m\u001b[22m\n"
     ]
    },
    {
     "name": "stdout",
     "output_type": "stream",
     "text": [
      "Sequence size: 100000, Remote execution time: 0.5920052528381348\n"
     ]
    }
   ],
   "source": [
    "run_remote(100000)"
   ]
  },
  {
   "cell_type": "markdown",
   "id": "fe9ff505",
   "metadata": {},
   "source": [
    "# Task Dependencies"
   ]
  },
  {
   "cell_type": "code",
   "execution_count": 6,
   "id": "a8c7ac2c",
   "metadata": {},
   "outputs": [
    {
     "name": "stdout",
     "output_type": "stream",
     "text": [
      "[[-43.74338951 -12.16991773 -79.92173803 ... -22.48706205  31.5581209\n",
      "  -47.13317131]\n",
      " [-32.70412478 -30.34191998  -0.75417966 ... -24.39169977 -10.40545103\n",
      "   31.32188393]\n",
      " [ 35.16236425  -3.66729647  -1.90961785 ...  -4.16589092  68.02127893\n",
      "    5.84063103]\n",
      " ...\n",
      " [ 18.2684853   22.16242914  26.4647355  ... -13.63078342  -0.14547263\n",
      "   24.10078844]\n",
      " [ 28.8467166   79.31952896  -9.86002844 ... -62.58190737  40.3096995\n",
      "  -26.27479474]\n",
      " [ 68.61577567  -3.47736588  19.3771663  ...   8.01371938 -17.64306138\n",
      "    3.38061947]]\n"
     ]
    }
   ],
   "source": [
    "import numpy as np\n",
    "\n",
    "@ray.remote\n",
    "def create_matrix(size):\n",
    "    return np.random.normal(size=size)\n",
    "\n",
    "@ray.remote\n",
    "def multiply_matrices(x, y):\n",
    "    return np.dot(x, y)\n",
    "\n",
    "x_id = create_matrix.remote([1000, 1000])\n",
    "y_id = create_matrix.remote([1000, 1000])\n",
    "z_id = multiply_matrices.remote(x_id, y_id)\n",
    "\n",
    "# Get the results.\n",
    "z = ray.get(z_id)\n",
    "print(z)"
   ]
  },
  {
   "cell_type": "markdown",
   "id": "a6f78c70",
   "metadata": {},
   "source": [
    "# From Classes to Actors"
   ]
  },
  {
   "cell_type": "code",
   "execution_count": 7,
   "id": "5ef4ac92",
   "metadata": {},
   "outputs": [
    {
     "name": "stdout",
     "output_type": "stream",
     "text": [
      "0\n",
      "2\n"
     ]
    }
   ],
   "source": [
    "@ray.remote\n",
    "class Counter(object):\n",
    "    def __init__(self):\n",
    "        self.x = 0\n",
    "    \n",
    "    def inc(self):\n",
    "        self.x += 1\n",
    "    \n",
    "    def get_value(self):\n",
    "        return self.x\n",
    "\n",
    "# Create an actor process.\n",
    "c = Counter.remote()\n",
    "\n",
    "# Check the actor's counter value.\n",
    "print(ray.get(c.get_value.remote()))  # 0\n",
    "\n",
    "# Increment the counter twice and check the value again.\n",
    "c.inc.remote()\n",
    "c.inc.remote()\n",
    "print(ray.get(c.get_value.remote()))  # 2"
   ]
  },
  {
   "cell_type": "markdown",
   "id": "f77b3bac",
   "metadata": {},
   "source": [
    "# The following example creates an actor that stores messages. Several worker tasks repeatedly push messages to the actor, and the main Python script reads the messages periodically."
   ]
  },
  {
   "cell_type": "code",
   "execution_count": 8,
   "id": "1a6ff227",
   "metadata": {},
   "outputs": [
    {
     "name": "stdout",
     "output_type": "stream",
     "text": [
      "New messages: []\n",
      "New messages: ['Message 0 from worker 2.', 'Message 0 from worker 1.', 'Message 0 from worker 0.']\n",
      "New messages: ['Message 1 from worker 0.', 'Message 1 from worker 2.', 'Message 1 from worker 1.']\n",
      "New messages: ['Message 2 from worker 1.', 'Message 2 from worker 0.', 'Message 2 from worker 2.']\n",
      "New messages: ['Message 3 from worker 0.', 'Message 3 from worker 2.', 'Message 3 from worker 1.']\n",
      "New messages: ['Message 4 from worker 2.', 'Message 4 from worker 0.', 'Message 4 from worker 1.']\n",
      "New messages: ['Message 5 from worker 2.', 'Message 5 from worker 0.', 'Message 5 from worker 1.']\n",
      "New messages: ['Message 6 from worker 1.', 'Message 6 from worker 0.', 'Message 6 from worker 2.']\n",
      "New messages: ['Message 7 from worker 0.', 'Message 7 from worker 1.', 'Message 7 from worker 2.']\n",
      "New messages: ['Message 8 from worker 1.', 'Message 8 from worker 0.', 'Message 8 from worker 2.']\n",
      "New messages: ['Message 9 from worker 0.', 'Message 9 from worker 1.', 'Message 9 from worker 2.']\n",
      "New messages: ['Message 10 from worker 0.', 'Message 10 from worker 2.', 'Message 10 from worker 1.']\n",
      "New messages: ['Message 11 from worker 1.', 'Message 11 from worker 2.', 'Message 11 from worker 0.']\n",
      "New messages: ['Message 12 from worker 2.', 'Message 12 from worker 1.', 'Message 12 from worker 0.']\n",
      "New messages: ['Message 13 from worker 0.', 'Message 13 from worker 1.', 'Message 13 from worker 2.']\n",
      "New messages: ['Message 14 from worker 0.', 'Message 14 from worker 2.', 'Message 14 from worker 1.']\n",
      "New messages: ['Message 15 from worker 2.', 'Message 15 from worker 1.', 'Message 15 from worker 0.']\n",
      "New messages: ['Message 16 from worker 2.', 'Message 16 from worker 1.', 'Message 16 from worker 0.']\n",
      "New messages: ['Message 17 from worker 1.', 'Message 17 from worker 0.', 'Message 17 from worker 2.']\n",
      "New messages: ['Message 18 from worker 1.', 'Message 18 from worker 0.', 'Message 18 from worker 2.']\n"
     ]
    }
   ],
   "source": [
    "@ray.remote\n",
    "class MessageActor(object):\n",
    "    def __init__(self):\n",
    "        self.messages = []\n",
    "    \n",
    "    def add_message(self, message):\n",
    "        self.messages.append(message)\n",
    "    \n",
    "    def get_and_clear_messages(self):\n",
    "        messages = self.messages\n",
    "        self.messages = []\n",
    "        return messages\n",
    "\n",
    "\n",
    "# Define a remote function which loops around and pushes\n",
    "# messages to the actor.\n",
    "@ray.remote\n",
    "def worker(message_actor, j):\n",
    "    for i in range(100):\n",
    "        time.sleep(1)\n",
    "        message_actor.add_message.remote(\n",
    "            \"Message {} from worker {}.\".format(i, j))\n",
    "\n",
    "\n",
    "# Create a message actor.\n",
    "message_actor = MessageActor.remote()\n",
    "\n",
    "# Start 3 tasks that push messages to the actor.\n",
    "[worker.remote(message_actor, j) for j in range(3)]\n",
    "\n",
    "# Periodically get the messages and print them.\n",
    "for _ in range(20):\n",
    "    new_messages = ray.get(message_actor.get_and_clear_messages.remote())\n",
    "    print(\"New messages:\", new_messages)\n",
    "    time.sleep(1)\n",
    "\n"
   ]
  },
  {
   "cell_type": "markdown",
   "id": "6a051b62",
   "metadata": {},
   "source": [
    "# Ray Datasets"
   ]
  },
  {
   "cell_type": "code",
   "execution_count": 9,
   "id": "1c4e37be",
   "metadata": {},
   "outputs": [],
   "source": [
    "# Create a Dataset of Python objects.\n",
    "ds = ray.data.range(10000)\n",
    "# -> Dataset(num_blocks=200, num_rows=10000, schema=<class 'int'>)"
   ]
  },
  {
   "cell_type": "code",
   "execution_count": 10,
   "id": "adc0fdeb",
   "metadata": {},
   "outputs": [
    {
     "data": {
      "text/plain": [
       "[0, 1, 2, 3, 4]"
      ]
     },
     "execution_count": 10,
     "metadata": {},
     "output_type": "execute_result"
    }
   ],
   "source": [
    "ds.take(5)\n",
    "# -> [0, 1, 2, 3, 4]"
   ]
  },
  {
   "cell_type": "code",
   "execution_count": 11,
   "id": "f87f1e70",
   "metadata": {},
   "outputs": [
    {
     "data": {
      "text/plain": [
       "10000"
      ]
     },
     "execution_count": 11,
     "metadata": {},
     "output_type": "execute_result"
    }
   ],
   "source": [
    "ds.count()\n",
    "# -> 10000"
   ]
  },
  {
   "cell_type": "code",
   "execution_count": 12,
   "id": "7659ce5b",
   "metadata": {},
   "outputs": [],
   "source": [
    "# Create a Dataset of Arrow records.\n",
    "ds = ray.data.from_items([{\"col1\": i, \"col2\": str(i)} for i in range(10000)])\n",
    "# -> Dataset(num_blocks=200, num_rows=10000, schema={col1: int64, col2: string})\n"
   ]
  },
  {
   "cell_type": "code",
   "execution_count": 13,
   "id": "2a349b4a",
   "metadata": {},
   "outputs": [
    {
     "name": "stdout",
     "output_type": "stream",
     "text": [
      "{'col1': 0, 'col2': '0'}\n",
      "{'col1': 1, 'col2': '1'}\n",
      "{'col1': 2, 'col2': '2'}\n",
      "{'col1': 3, 'col2': '3'}\n",
      "{'col1': 4, 'col2': '4'}\n"
     ]
    }
   ],
   "source": [
    "ds.show(5)\n",
    "# -> {'col1': 0, 'col2': '0'}\n",
    "# -> {'col1': 1, 'col2': '1'}\n",
    "# -> {'col1': 2, 'col2': '2'}\n",
    "# -> {'col1': 3, 'col2': '3'}\n",
    "# -> {'col1': 4, 'col2': '4'}"
   ]
  },
  {
   "cell_type": "code",
   "execution_count": 14,
   "id": "8f240a9d",
   "metadata": {},
   "outputs": [
    {
     "data": {
      "text/plain": [
       "col1: int64\n",
       "col2: string"
      ]
     },
     "execution_count": 14,
     "metadata": {},
     "output_type": "execute_result"
    }
   ],
   "source": [
    "ds.schema()\n",
    "# -> col1: int64\n",
    "# -> col2: string"
   ]
  },
  {
   "cell_type": "code",
   "execution_count": null,
   "id": "f1bc0870",
   "metadata": {},
   "outputs": [],
   "source": []
  }
 ],
 "metadata": {
  "kernelspec": {
   "display_name": "Python 3 (ipykernel)",
   "language": "python",
   "name": "python3"
  },
  "language_info": {
   "codemirror_mode": {
    "name": "ipython",
    "version": 3
   },
   "file_extension": ".py",
   "mimetype": "text/x-python",
   "name": "python",
   "nbconvert_exporter": "python",
   "pygments_lexer": "ipython3",
   "version": "3.9.7"
  }
 },
 "nbformat": 4,
 "nbformat_minor": 5
}
