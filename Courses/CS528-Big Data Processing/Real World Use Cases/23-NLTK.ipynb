{
 "cells": [
  {
   "cell_type": "code",
   "execution_count": 3,
   "metadata": {},
   "outputs": [
    {
     "name": "stdout",
     "output_type": "stream",
     "text": [
      "This was a very good movie --> {'neg': 0.0, 'neu': 0.556, 'pos': 0.444, 'compound': 0.4927}\n",
      "Bad movie --> {'neg': 0.778, 'neu': 0.222, 'pos': 0.0, 'compound': -0.5423}\n",
      "Worst movie ever seen --> {'neg': 0.577, 'neu': 0.423, 'pos': 0.0, 'compound': -0.6249}\n",
      "Better than any --> {'neg': 0.0, 'neu': 0.408, 'pos': 0.592, 'compound': 0.4404}\n",
      "The best movie --> {'neg': 0.0, 'neu': 0.323, 'pos': 0.677, 'compound': 0.6369}\n"
     ]
    }
   ],
   "source": [
    "import nltk\n",
    "from nltk.sentiment.vader import SentimentIntensityAnalyzer\n",
    "\n",
    "texts = [\n",
    "    \"This was a very good movie\",\n",
    "    \"Bad movie\",\n",
    "    \"Worst movie ever seen\",\n",
    "    \"Better than any movie\",\n",
    "    \"The best movie\"]\n",
    "\n",
    "\n",
    "sia = SentimentIntensityAnalyzer()\n",
    "for text in texts:\n",
    "    result = sia.polarity_scores(text)\n",
    "    print(text,\"-->\",result)\n",
    "\n"
   ]
  },
  {
   "cell_type": "code",
   "execution_count": null,
   "metadata": {},
   "outputs": [],
   "source": []
  }
 ],
 "metadata": {
  "kernelspec": {
   "display_name": "Python 3",
   "language": "python",
   "name": "python3"
  },
  "language_info": {
   "codemirror_mode": {
    "name": "ipython",
    "version": 3
   },
   "file_extension": ".py",
   "mimetype": "text/x-python",
   "name": "python",
   "nbconvert_exporter": "python",
   "pygments_lexer": "ipython3",
   "version": "3.8.3"
  }
 },
 "nbformat": 4,
 "nbformat_minor": 4
}
