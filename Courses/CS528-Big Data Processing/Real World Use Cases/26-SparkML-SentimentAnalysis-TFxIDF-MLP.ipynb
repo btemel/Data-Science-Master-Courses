{
 "cells": [
  {
   "cell_type": "code",
   "execution_count": 7,
   "metadata": {},
   "outputs": [
    {
     "name": "stdout",
     "output_type": "stream",
     "text": [
      "Accuracy :  0.8886483886483891\n",
      "+--------------------+-----+--------------------+--------------------+----------+\n",
      "|            features|label|       rawPrediction|         probability|prediction|\n",
      "+--------------------+-----+--------------------+--------------------+----------+\n",
      "|(4000,[1,19,215,3...|    0|[10.4468761373359...|[0.99999999914874...|       0.0|\n",
      "|(4000,[1,452,847,...|    1|[-7.8628942328295...|[4.35380198507654...|       1.0|\n",
      "|(4000,[4,6,194,38...|    0|[10.4780836049589...|[0.99999999920435...|       0.0|\n",
      "|(4000,[4,120,215,...|    0|[9.04060283588073...|[0.99999998209185...|       0.0|\n",
      "|(4000,[5,120,592,...|    1|[9.15674644775305...|[0.99999998662080...|       0.0|\n",
      "|(4000,[5,215,265,...|    0|[10.5246671394350...|[0.99999999928024...|       0.0|\n",
      "|(4000,[5,354,676,...|    0|[7.22375798971401...|[0.99999911645315...|       0.0|\n",
      "|(4000,[5,366,844,...|    1|[9.43823924505575...|[0.99999999254359...|       0.0|\n",
      "|(4000,[5,534,853,...|    0|[10.3178276432579...|[0.99999999887146...|       0.0|\n",
      "|(4000,[5,824,886,...|    0|[8.79595389449864...|[0.99999996911736...|       0.0|\n",
      "|(4000,[6,270,278,...|    1|[10.3835466914441...|[0.99999999903010...|       0.0|\n",
      "|(4000,[9,57,138,1...|    1|[-9.1455422817086...|[3.15273342643958...|       1.0|\n",
      "|(4000,[10,681,790...|    0|[7.14839234598198...|[0.99999895567293...|       0.0|\n",
      "|(4000,[12,215,123...|    0|[9.39458123861390...|[0.99999999193544...|       0.0|\n",
      "|(4000,[15,57,518,...|    1|[7.64229455884503...|[0.99999968621603...|       0.0|\n",
      "|(4000,[16,129,225...|    0|[-6.3883514913472...|[8.14290739169761...|       1.0|\n",
      "|(4000,[17,41,64,3...|    1|[-9.0261745054843...|[4.14116444645826...|       1.0|\n",
      "|(4000,[17,45,219,...|    0|[-8.6922067456694...|[8.11937695558692...|       1.0|\n",
      "|(4000,[19,32,242,...|    0|[-8.1608051578343...|[2.46820057204314...|       1.0|\n",
      "|(4000,[20,187,329...|    1|[-6.6319411060934...|[6.83868909954573...|       1.0|\n",
      "+--------------------+-----+--------------------+--------------------+----------+\n",
      "only showing top 20 rows\n",
      "\n"
     ]
    }
   ],
   "source": [
    "from pyspark.sql import SparkSession\n",
    "from pyspark.ml.feature import Tokenizer,StopWordsRemover,HashingTF,IDF\n",
    "from pyspark.ml.classification import MultilayerPerceptronClassifier\n",
    "from pyspark.ml.evaluation import BinaryClassificationEvaluator\n",
    "from pyspark.ml.tuning import TrainValidationSplit,ParamGridBuilder\n",
    "from pyspark.sql.functions import UserDefinedFunction\n",
    "from pyspark.sql.types import StringType\n",
    "\n",
    "def removePunctuation(text):\n",
    "    text = text.replace('.','')\n",
    "    text = text.replace(',','')\n",
    "    text = text.replace(';','')\n",
    "    text = text.replace(':','')\n",
    "    text = text.replace('ç','c')\n",
    "    text = text.replace('ş','s')\n",
    "    return text\n",
    "\n",
    "spark = SparkSession.builder.getOrCreate()\n",
    "textDF = spark.read.option('delimiter','\\t').option('inferSchema','true').csv('datasets/movie_turkish_train.txt')\n",
    "textDF = textDF.withColumnRenamed('_c0','orig')\n",
    "textDF = textDF.withColumnRenamed('_c1','label')\n",
    "\n",
    "myUDF = UserDefinedFunction(removePunctuation,StringType())\n",
    "\n",
    "textDF = textDF.withColumn('Text',myUDF('orig'))\n",
    "\n",
    "\n",
    "#textDF.show()\n",
    "tokenizer = Tokenizer(inputCol='Text',outputCol='tokenized')\n",
    "textDF = tokenizer.transform(textDF)\n",
    "\n",
    "trStopWords = StopWordsRemover.loadDefaultStopWords('turkish')\n",
    "sRemover = StopWordsRemover(inputCol='tokenized',outputCol='removed',stopWords=trStopWords)\n",
    "textDF = sRemover.transform(textDF)\n",
    "\n",
    "vSize = 4000\n",
    "\n",
    "tf = HashingTF(inputCol='removed',outputCol='tf',numFeatures=vSize)\n",
    "textDF = tf.transform(textDF)\n",
    "idf = IDF(inputCol='tf',outputCol='features')\n",
    "textDF = idf.fit(textDF).transform(textDF)\n",
    "#textDF.show()\n",
    "\n",
    "textDF = textDF.select('features','label')\n",
    "trainDF, testDF = textDF.randomSplit([0.75,0.25],seed=123) \n",
    "\n",
    "mlpClassifier= MultilayerPerceptronClassifier(layers=[vSize,5,2])\n",
    "model = mlpClassifier.fit(trainDF)\n",
    "\n",
    "resultDF = model.transform(testDF)\n",
    "\n",
    "eva = BinaryClassificationEvaluator()\n",
    "successRate = eva.evaluate(resultDF)\n",
    "print(\"Accuracy : \",successRate)\n",
    "resultDF.show()"
   ]
  },
  {
   "cell_type": "code",
   "execution_count": null,
   "metadata": {},
   "outputs": [],
   "source": [
    "import pyspark.sql.functions as F\n",
    "\n",
    "df2 = df.select(\n",
    "    [F.regexp_replace(col, r',|\\.|&|\\\\|\\||-|_', '').alias(col) for col in df.columns]\n",
    ")"
   ]
  }
 ],
 "metadata": {
  "kernelspec": {
   "display_name": "Python 3",
   "language": "python",
   "name": "python3"
  },
  "language_info": {
   "codemirror_mode": {
    "name": "ipython",
    "version": 3
   },
   "file_extension": ".py",
   "mimetype": "text/x-python",
   "name": "python",
   "nbconvert_exporter": "python",
   "pygments_lexer": "ipython3",
   "version": "3.8.3"
  }
 },
 "nbformat": 4,
 "nbformat_minor": 4
}
