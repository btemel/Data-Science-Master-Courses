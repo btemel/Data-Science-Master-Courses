{
 "cells": [
  {
   "cell_type": "code",
   "execution_count": 15,
   "metadata": {},
   "outputs": [
    {
     "name": "stdout",
     "output_type": "stream",
     "text": [
      "Accuracy :  0.9142736231183116\n",
      "+--------------------+-----+--------------------+--------------------+----------+\n",
      "|            features|label|       rawPrediction|         probability|prediction|\n",
      "+--------------------+-----+--------------------+--------------------+----------+\n",
      "|(3000,[0,1,2,3,5,...|    1|[-7.6775772113474...|[3.03041489059042...|       1.0|\n",
      "|(3000,[0,1,2,3,6,...|    0|[19.4932738963183...|[1.0,9.1898637980...|       0.0|\n",
      "|(3000,[0,1,2,3,7,...|    1|[21.0027392902773...|[1.0,5.4634869348...|       0.0|\n",
      "|(3000,[0,1,2,3,7,...|    0|[17.2848249669199...|[0.99999999999999...|       0.0|\n",
      "|(3000,[0,1,2,3,9,...|    1|[-13.497930568764...|[3.07889798084543...|       1.0|\n",
      "|(3000,[0,1,2,3,19...|    0|[19.5160805425421...|[1.0,1.0061128358...|       0.0|\n",
      "|(3000,[0,1,2,4,16...|    0|[18.1136112194893...|[0.99999999999999...|       0.0|\n",
      "|(3000,[0,1,2,5,6,...|    1|[-16.881695622704...|[5.90384063554461...|       1.0|\n",
      "|(3000,[0,1,2,5,6,...|    1|[9.60995731436413...|[0.99999999067833...|       0.0|\n",
      "|(3000,[0,1,2,5,6,...|    1|[-14.553624753515...|[6.21538388720372...|       1.0|\n",
      "|(3000,[0,1,2,5,7,...|    1|[-11.979039251144...|[1.04178834680117...|       1.0|\n",
      "|(3000,[0,1,2,5,9,...|    1|[-9.4059086539832...|[1.55275787728889...|       1.0|\n",
      "|(3000,[0,1,2,5,11...|    0|[-11.235631958187...|[4.34225290276843...|       1.0|\n",
      "|(3000,[0,1,2,5,24...|    1|[0.69837512957600...|[0.73289775199806...|       0.0|\n",
      "|(3000,[0,1,2,6,14...|    0|[21.7263877682212...|[1.0,1.3828988378...|       0.0|\n",
      "|(3000,[0,1,2,6,73...|    1|[-18.584470056484...|[1.73151338370863...|       1.0|\n",
      "|(3000,[0,1,2,6,12...|    1|[-10.189776166557...|[2.10972664008636...|       1.0|\n",
      "|(3000,[0,1,2,7,8,...|    1|[-18.592773101598...|[1.97280156336867...|       1.0|\n",
      "|(3000,[0,1,2,7,16...|    0|[5.78921856507965...|[0.99997432132273...|       0.0|\n",
      "|(3000,[0,1,2,8,11...|    1|[-15.550890758734...|[8.09315784118492...|       1.0|\n",
      "+--------------------+-----+--------------------+--------------------+----------+\n",
      "only showing top 20 rows\n",
      "\n"
     ]
    }
   ],
   "source": [
    "from pyspark.sql import SparkSession\n",
    "from pyspark.ml.feature import Tokenizer,StopWordsRemover,CountVectorizer\n",
    "from pyspark.ml.classification import MultilayerPerceptronClassifier\n",
    "from pyspark.ml.evaluation import BinaryClassificationEvaluator\n",
    "from pyspark.ml.tuning import TrainValidationSplit,ParamGridBuilder\n",
    "from pyspark.sql.functions import UserDefinedFunction\n",
    "from pyspark.sql.types import StringType\n",
    "\n",
    "def removePunctuation(text):\n",
    "    text = text.replace('.','')\n",
    "    text = text.replace(',','')\n",
    "    text = text.replace(';','')\n",
    "    text = text.replace(':','')\n",
    "    text = text.replace('ç','c')\n",
    "    text = text.replace('ş','s')\n",
    "    return text\n",
    "\n",
    "spark = SparkSession.builder.getOrCreate()\n",
    "textDF = spark.read.option('delimiter','\\t').option('inferSchema','true').csv('datasets/movie_turkish_train.txt')\n",
    "textDF = textDF.withColumnRenamed('_c0','orig')\n",
    "textDF = textDF.withColumnRenamed('_c1','label')\n",
    "\n",
    "myUDF = UserDefinedFunction(removePunctuation,StringType())\n",
    "\n",
    "textDF = textDF.withColumn('Text',myUDF('orig'))\n",
    "\n",
    "\n",
    "#textDF.show()\n",
    "tokenizer = Tokenizer(inputCol='Text',outputCol='tokenized')\n",
    "textDF = tokenizer.transform(textDF)\n",
    "\n",
    "trStopWords = StopWordsRemover.loadDefaultStopWords('turkish')\n",
    "sRemover = StopWordsRemover(inputCol='tokenized',outputCol='removed',stopWords=trStopWords)\n",
    "textDF = sRemover.transform(textDF)\n",
    "\n",
    "vSize = 3000\n",
    "\n",
    "vectorizer = CountVectorizer(inputCol='removed',outputCol='features',vocabSize=vSize)\n",
    "textDF = vectorizer.fit(textDF).transform(textDF)\n",
    "\n",
    "textDF = textDF.select('features','label')\n",
    "trainDF, testDF = textDF.randomSplit([0.75,0.25],seed=123) \n",
    "\n",
    "mlpClassifier= MultilayerPerceptronClassifier(layers=[vSize,5,2])\n",
    "model = mlpClassifier.fit(trainDF)\n",
    "\n",
    "resultDF = model.transform(testDF)\n",
    "\n",
    "eva = BinaryClassificationEvaluator()\n",
    "successRate = eva.evaluate(resultDF)\n",
    "print(\"Accuracy : \",successRate)\n",
    "resultDF.show()"
   ]
  },
  {
   "cell_type": "code",
   "execution_count": null,
   "metadata": {},
   "outputs": [],
   "source": [
    "import pyspark.sql.functions as F\n",
    "\n",
    "df2 = df.select(\n",
    "    [F.regexp_replace(col, r',|\\.|&|\\\\|\\||-|_', '').alias(col) for col in df.columns]\n",
    ")"
   ]
  }
 ],
 "metadata": {
  "kernelspec": {
   "display_name": "Python 3",
   "language": "python",
   "name": "python3"
  },
  "language_info": {
   "codemirror_mode": {
    "name": "ipython",
    "version": 3
   },
   "file_extension": ".py",
   "mimetype": "text/x-python",
   "name": "python",
   "nbconvert_exporter": "python",
   "pygments_lexer": "ipython3",
   "version": "3.8.3"
  }
 },
 "nbformat": 4,
 "nbformat_minor": 4
}
