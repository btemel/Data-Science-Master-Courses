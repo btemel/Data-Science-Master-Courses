{
 "cells": [
  {
   "cell_type": "code",
   "execution_count": null,
   "metadata": {},
   "outputs": [],
   "source": [
    "from pyspark.sql.types import StructType,StringType,DoubleType,StructField\n",
    "from pyspark.sql import SparkSession\n",
    "from pyspark.ml.feature import VectorAssembler\n",
    "from pyspark.ml.classification import DecisionTreeClassificationModel\n",
    "\n",
    "spark = SparkSession.builder.appName(\"Log Watcher\").getOrCreate()\n",
    "\n",
    "logSchema = StructType([StructField(\"sl\",DoubleType(),True),\n",
    "                        StructField(\"sw\",DoubleType(),True),\n",
    "                        StructField(\"pl\",DoubleType(),True),\n",
    "                       StructField(\"pw\",DoubleType(),True),\n",
    "                       StructField(\"class\",StringType(),True)])\n",
    "irisDF = spark.readStream.\\\n",
    "        option(\"sep\", \",\").\\\n",
    "        schema(logSchema).csv(\"logs\")\n",
    "\n",
    "\n",
    "vec = VectorAssembler(inputCols=irisDF.columns[0:4],outputCol=\"features\")\n",
    "irisDF = vec.transform(irisDF)\n",
    "model = DecisionTreeClassificationModel.load(\"dtModel\")\n",
    "irisDF = model.transform(irisDF)\n",
    "\n",
    "query = irisDF.writeStream\\\n",
    "            .outputMode(\"update\")\\\n",
    "            .format(\"console\").start()\n",
    "\n",
    "query.awaitTermination()"
   ]
  },
  {
   "cell_type": "code",
   "execution_count": null,
   "metadata": {},
   "outputs": [],
   "source": []
  }
 ],
 "metadata": {
  "kernelspec": {
   "display_name": "Python 3",
   "language": "python",
   "name": "python3"
  },
  "language_info": {
   "codemirror_mode": {
    "name": "ipython",
    "version": 3
   },
   "file_extension": ".py",
   "mimetype": "text/x-python",
   "name": "python",
   "nbconvert_exporter": "python",
   "pygments_lexer": "ipython3",
   "version": "3.8.3"
  }
 },
 "nbformat": 4,
 "nbformat_minor": 4
}
