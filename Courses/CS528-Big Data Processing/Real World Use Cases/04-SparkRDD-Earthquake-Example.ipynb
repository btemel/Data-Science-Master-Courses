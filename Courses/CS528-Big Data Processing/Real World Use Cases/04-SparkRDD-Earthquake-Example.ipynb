{
 "cells": [
  {
   "cell_type": "code",
   "execution_count": 12,
   "metadata": {},
   "outputs": [
    {
     "data": {
      "text/plain": [
       "[('Region 5', 412),\n",
       " ('Region 1', 167),\n",
       " ('Region 4', 90),\n",
       " ('Region 2', 77),\n",
       " ('Region 3', 76),\n",
       " ('Region 7', 68),\n",
       " ('Region 8', 68),\n",
       " ('Region 6', 59)]"
      ]
     },
     "execution_count": 12,
     "metadata": {},
     "output_type": "execute_result"
    }
   ],
   "source": [
    "#Question : Split Turkey map into 8 regions and try to find the safest and most dangerous region in Turkey\n",
    "from pyspark import SparkContext\n",
    "import numpy as np\n",
    "sc = SparkContext.getOrCreate()\n",
    "#map, sortBy, filter\n",
    "dataRDD = sc.textFile('datasets/EarthquakeDataset-Latest.txt')\n",
    "dataRDD = dataRDD.filter(lambda line : 'Origin Time' not in line)\n",
    "def splitAndTake(line):\n",
    "    arr = line.split('\\t')\n",
    "    lat = float(arr[4])\n",
    "    lng = float(arr[5])\n",
    "    mg = float(arr[7])\n",
    "    return (lat,lng,mg)\n",
    "\n",
    "\n",
    "dataRDD = dataRDD.map(lambda line : splitAndTake(line))\n",
    "#print(dataRDD.take(1))\n",
    "dataRDD = dataRDD.filter(lambda x: x[2]>5.0)\n",
    "def setRegion(lat,lng):\n",
    "    region = \"\"\n",
    "    if lat >= 39:\n",
    "        if lng <= 31:\n",
    "            region = \"Region 1\"\n",
    "        elif lng <= 36:\n",
    "            region = \"Region 2\"\n",
    "        elif lng <= 41:\n",
    "            region = \"Region 3\"\n",
    "        else:\n",
    "            region = \"Region 4\"\n",
    "    else:\n",
    "        if lng <= 31:\n",
    "            region = \"Region 5\"\n",
    "        elif lng <= 36:\n",
    "            region = \"Region 6\"\n",
    "        elif lng <= 41:\n",
    "            region = \"Region 7\"\n",
    "        else:\n",
    "            region = \"Region 8\"\n",
    "    #return (lat,lng,region)\n",
    "    return (region,1)\n",
    "\n",
    "dataRDD = dataRDD.map(lambda r : setRegion(r[0],r[1]))\n",
    "dataRDD = dataRDD.reduceByKey(lambda x,y : x+y)\n",
    "dataRDD = dataRDD.sortBy(lambda c : c[1],ascending=False)\n",
    "dataRDD.take(10)"
   ]
  },
  {
   "cell_type": "code",
   "execution_count": 45,
   "metadata": {},
   "outputs": [
    {
     "name": "stdout",
     "output_type": "stream",
     "text": [
      "File is saved\n"
     ]
    }
   ],
   "source": [
    "#Find the top 10 (magnitude) earthquakes in Turkey since 1900\n",
    "from pyspark import SparkContext\n",
    "import numpy as np\n",
    "sc = SparkContext.getOrCreate()\n",
    "#map, sortBy, filter\n",
    "dataRDD = sc.textFile('datasets/EarthquakeDataset-Latest.txt')\n",
    "dataRDD = dataRDD.filter(lambda line : 'Origin Time' not in line)\n",
    "def splitAndTake(line):\n",
    "    arr = line.split('\\t')\n",
    "    mg = float(arr[7])\n",
    "    eDate = arr[2]\n",
    "    loc = arr[14]\n",
    "    return (loc,eDate,mg)\n",
    "\n",
    "dataRDD = dataRDD.map(lambda line : splitAndTake(line))\n",
    "dataRDD = dataRDD.sortBy(lambda x : x[2],ascending=False)\n",
    "dataRDD.take(10)\n",
    "dataRDD.saveAsTextFile('top10')\n",
    "print('File is saved')"
   ]
  },
  {
   "cell_type": "code",
   "execution_count": 25,
   "metadata": {},
   "outputs": [
    {
     "data": {
      "text/plain": [
       "241"
      ]
     },
     "execution_count": 25,
     "metadata": {},
     "output_type": "execute_result"
    }
   ],
   "source": [
    "#sample (T), takeSample(A), saveAsTextFile(A) \n",
    "from pyspark import SparkContext\n",
    "import numpy as np\n",
    "sc = SparkContext.getOrCreate()\n",
    "#map, sortBy, filter\n",
    "capitalRDD = sc.textFile('datasets/Capitals.txt')\n",
    "capitalRDD = capitalRDD.map(lambda x : x.split('\\t')[1])\n",
    "capitalRDD.count()"
   ]
  },
  {
   "cell_type": "code",
   "execution_count": 32,
   "metadata": {},
   "outputs": [
    {
     "name": "stdout",
     "output_type": "stream",
     "text": [
      "<class 'list'>\n"
     ]
    }
   ],
   "source": [
    "#takeSample --> Action\n",
    "countries = capitalRDD.takeSample(False,5,seed=1234)\n",
    "print(type(countries))"
   ]
  },
  {
   "cell_type": "code",
   "execution_count": 44,
   "metadata": {},
   "outputs": [
    {
     "name": "stdout",
     "output_type": "stream",
     "text": [
      "<class 'pyspark.rdd.PipelinedRDD'>\n"
     ]
    },
    {
     "data": {
      "text/plain": [
       "['Bangladesh ', 'Niger ', 'Saudi Arabia ']"
      ]
     },
     "execution_count": 44,
     "metadata": {},
     "output_type": "execute_result"
    }
   ],
   "source": [
    "#sample --> Transfromation\n",
    "countriesRDD = capitalRDD.sample(False,0.01)\n",
    "print(type(countriesRDD))\n",
    "countriesRDD.take(1000)"
   ]
  },
  {
   "cell_type": "code",
   "execution_count": null,
   "metadata": {},
   "outputs": [],
   "source": []
  }
 ],
 "metadata": {
  "kernelspec": {
   "display_name": "Python 3",
   "language": "python",
   "name": "python3"
  },
  "language_info": {
   "codemirror_mode": {
    "name": "ipython",
    "version": 3
   },
   "file_extension": ".py",
   "mimetype": "text/x-python",
   "name": "python",
   "nbconvert_exporter": "python",
   "pygments_lexer": "ipython3",
   "version": "3.8.3"
  }
 },
 "nbformat": 4,
 "nbformat_minor": 4
}
