{
 "cells": [
  {
   "cell_type": "code",
   "execution_count": 6,
   "metadata": {},
   "outputs": [
    {
     "name": "stdout",
     "output_type": "stream",
     "text": [
      "Accuracy :  0.800204425204425\n",
      "+--------------------+-----+--------------------+--------------------+----------+\n",
      "|            features|label|       rawPrediction|         probability|prediction|\n",
      "+--------------------+-----+--------------------+--------------------+----------+\n",
      "|[-0.6466463591371...|    0|[2.04106785944923...|[0.97041137738077...|       0.0|\n",
      "|[-0.4951508641242...|    1|[-0.2567318771885...|[0.20177500399048...|       1.0|\n",
      "|[-0.4108232321838...|    0|[1.99559202612476...|[0.96540562119095...|       0.0|\n",
      "|[-0.4054810334928...|    0|[3.89905350282082...|[0.99928114021809...|       0.0|\n",
      "|[-0.3880660108157...|    0|[2.61265551075986...|[0.98979449242936...|       0.0|\n",
      "|[-0.3618335368541...|    0|[2.17231231739861...|[0.97498249595396...|       0.0|\n",
      "|[-0.3441782164076...|    0|[1.52437469364426...|[0.90949084951578...|       0.0|\n",
      "|[-0.3435934005039...|    0|[2.35039542525020...|[0.98234302427214...|       0.0|\n",
      "|[-0.3370022118091...|    1|[-1.9218941759476...|[0.00709849580268...|       1.0|\n",
      "|[-0.3363179507561...|    1|[0.64876050080320...|[0.61595143247726...|       0.0|\n",
      "|[-0.3358891350882...|    1|[1.50112862660388...|[0.90461331702812...|       0.0|\n",
      "|[-0.3308575898408...|    0|[-1.1496201986751...|[0.03518506400188...|       1.0|\n",
      "|[-0.3271159669932...|    0|[0.38436574299024...|[0.48002109161886...|       1.0|\n",
      "|[-0.3136572291453...|    1|[-0.8079077672711...|[0.06954704381866...|       1.0|\n",
      "|[-0.3082546637703...|    1|[-1.0406839727193...|[0.04403010881113...|       1.0|\n",
      "|[-0.3026459939777...|    0|[2.82349846949416...|[0.99301985168816...|       0.0|\n",
      "|[-0.3018653891407...|    0|[3.04655418773115...|[0.99568283237514...|       0.0|\n",
      "|[-0.3015923344840...|    0|[0.92287381895751...|[0.73191130916660...|       0.0|\n",
      "|[-0.2907659485936...|    1|[-1.5834686856497...|[0.01464856541927...|       1.0|\n",
      "|[-0.2867976137333...|    0|[1.82068429821723...|[0.94622984707082...|       0.0|\n",
      "+--------------------+-----+--------------------+--------------------+----------+\n",
      "only showing top 20 rows\n",
      "\n"
     ]
    }
   ],
   "source": [
    "from pyspark.sql import SparkSession\n",
    "from pyspark.ml.feature import Tokenizer,StopWordsRemover,Word2Vec\n",
    "from pyspark.ml.classification import MultilayerPerceptronClassifier\n",
    "from pyspark.ml.evaluation import BinaryClassificationEvaluator\n",
    "from pyspark.ml.tuning import TrainValidationSplit,ParamGridBuilder\n",
    "from pyspark.sql.functions import UserDefinedFunction\n",
    "from pyspark.sql.types import StringType\n",
    "\n",
    "def removePunctuation(text):\n",
    "    text = text.replace('.','')\n",
    "    text = text.replace(',','')\n",
    "    text = text.replace(';','')\n",
    "    text = text.replace(':','')\n",
    "    text = text.replace('ç','c')\n",
    "    text = text.replace('ş','s')\n",
    "    return text\n",
    "\n",
    "spark = SparkSession.builder.getOrCreate()\n",
    "textDF = spark.read.option('delimiter','\\t').option('inferSchema','true').csv('datasets/movie_turkish_train.txt')\n",
    "textDF = textDF.withColumnRenamed('_c0','orig')\n",
    "textDF = textDF.withColumnRenamed('_c1','label')\n",
    "\n",
    "myUDF = UserDefinedFunction(removePunctuation,StringType())\n",
    "\n",
    "textDF = textDF.withColumn('Text',myUDF('orig'))\n",
    "\n",
    "\n",
    "#textDF.show()\n",
    "tokenizer = Tokenizer(inputCol='Text',outputCol='tokenized')\n",
    "textDF = tokenizer.transform(textDF)\n",
    "\n",
    "trStopWords = StopWordsRemover.loadDefaultStopWords('turkish')\n",
    "sRemover = StopWordsRemover(inputCol='tokenized',outputCol='removed',stopWords=trStopWords)\n",
    "textDF = sRemover.transform(textDF)\n",
    "\n",
    "vSize = 3\n",
    "\n",
    "vectorizer = Word2Vec(inputCol='removed',outputCol='features',vectorSize=vSize,windowSize=5,\n",
    "                     maxIter=10)\n",
    "textDF = vectorizer.fit(textDF).transform(textDF)\n",
    "\n",
    "textDF = textDF.select('features','label')\n",
    "trainDF, testDF = textDF.randomSplit([0.75,0.25],seed=123) \n",
    "\n",
    "mlpClassifier= MultilayerPerceptronClassifier(layers=[vSize,5,2])\n",
    "model = mlpClassifier.fit(trainDF)\n",
    "\n",
    "resultDF = model.transform(testDF)\n",
    "\n",
    "eva = BinaryClassificationEvaluator()\n",
    "successRate = eva.evaluate(resultDF)\n",
    "print(\"Accuracy : \",successRate)\n",
    "resultDF.show()"
   ]
  },
  {
   "cell_type": "code",
   "execution_count": null,
   "metadata": {},
   "outputs": [],
   "source": []
  }
 ],
 "metadata": {
  "kernelspec": {
   "display_name": "Python 3",
   "language": "python",
   "name": "python3"
  },
  "language_info": {
   "codemirror_mode": {
    "name": "ipython",
    "version": 3
   },
   "file_extension": ".py",
   "mimetype": "text/x-python",
   "name": "python",
   "nbconvert_exporter": "python",
   "pygments_lexer": "ipython3",
   "version": "3.8.3"
  }
 },
 "nbformat": 4,
 "nbformat_minor": 4
}
