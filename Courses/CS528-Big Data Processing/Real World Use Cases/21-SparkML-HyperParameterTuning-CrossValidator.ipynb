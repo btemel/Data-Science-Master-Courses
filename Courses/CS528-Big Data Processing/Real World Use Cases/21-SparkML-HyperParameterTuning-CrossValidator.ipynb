{
 "cells": [
  {
   "cell_type": "code",
   "execution_count": 2,
   "metadata": {},
   "outputs": [
    {
     "name": "stdout",
     "output_type": "stream",
     "text": [
      "finished\n",
      "Num Trees :  12\n",
      "Max Depth :  6\n",
      "Impurtiy :  entropy\n"
     ]
    }
   ],
   "source": [
    "from pyspark.sql import SparkSession\n",
    "from pyspark.ml.feature import VectorAssembler,StringIndexer,OneHotEncoder\n",
    "from pyspark.ml.classification import RandomForestClassifier\n",
    "from pyspark.ml.evaluation import MulticlassClassificationEvaluator\n",
    "from pyspark.ml.tuning import CrossValidator,ParamGridBuilder\n",
    "\n",
    "spark = SparkSession.builder.getOrCreate()\n",
    "irisDF = spark.read.option('header','true').option('inferSchema','true').csv('datasets/iris-dataset.txt')\n",
    "indexer = StringIndexer(inputCol='class',outputCol='label')\n",
    "indexerModel = indexer.fit(irisDF)\n",
    "irisDF = indexerModel.transform(irisDF)\n",
    "vec = VectorAssembler(inputCols=irisDF.columns[0:4],outputCol='features')\n",
    "irisDF = vec.transform(irisDF)\n",
    "#irisDF.show()\n",
    "\n",
    "trainDF, testDF = irisDF.randomSplit([0.75,0.25],seed=123) \n",
    "\n",
    "rfClassifier= RandomForestClassifier()\n",
    "eva = MulticlassClassificationEvaluator(metricName='accuracy')\n",
    "\n",
    "myParams = ParamGridBuilder().addGrid(rfClassifier.numTrees,[8,10,12])\\\n",
    "                            .addGrid(rfClassifier.maxDepth,[2,4,6])\\\n",
    "                            .addGrid(rfClassifier.impurity,['entropy','gini']).build()\n",
    "\n",
    "validator = CrossValidator(estimator=rfClassifier,\n",
    "                                 estimatorParamMaps=myParams,\n",
    "                                 evaluator=eva,\n",
    "                                 parallelism=4,\n",
    "                                 numFolds=5\n",
    "                                )\n",
    "\n",
    "model = validator.fit(trainDF)\n",
    "print('finished')\n",
    "\n",
    "print(\"Num Trees : \",model.bestModel.getNumTrees)\n",
    "print(\"Max Depth : \",model.bestModel._java_obj.getMaxDepth())\n",
    "print(\"Impurtiy : \",model.bestModel._java_obj.getImpurity())"
   ]
  },
  {
   "cell_type": "code",
   "execution_count": 3,
   "metadata": {},
   "outputs": [
    {
     "name": "stdout",
     "output_type": "stream",
     "text": [
      "Accuracy :  0.9696969696969697\n"
     ]
    }
   ],
   "source": [
    "resultDF = model.transform(testDF)\n",
    "accuracy = eva.evaluate(resultDF)\n",
    "print(\"Accuracy : \", accuracy)"
   ]
  },
  {
   "cell_type": "code",
   "execution_count": null,
   "metadata": {},
   "outputs": [],
   "source": []
  }
 ],
 "metadata": {
  "kernelspec": {
   "display_name": "Python 3",
   "language": "python",
   "name": "python3"
  },
  "language_info": {
   "codemirror_mode": {
    "name": "ipython",
    "version": 3
   },
   "file_extension": ".py",
   "mimetype": "text/x-python",
   "name": "python",
   "nbconvert_exporter": "python",
   "pygments_lexer": "ipython3",
   "version": "3.8.3"
  }
 },
 "nbformat": 4,
 "nbformat_minor": 4
}
