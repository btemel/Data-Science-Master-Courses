{
 "cells": [
  {
   "cell_type": "code",
   "execution_count": 38,
   "metadata": {},
   "outputs": [
    {
     "data": {
      "image/png": "[encoded data removed]",
      "text/plain": [
       "<Figure size 432x288 with 1 Axes>"
      ]
     },
     "metadata": {
      "needs_background": "light"
     },
     "output_type": "display_data"
    },
    {
     "name": "stdout",
     "output_type": "stream",
     "text": [
      "Evaluation Result : 0.9464374120400001 K value: 4\n"
     ]
    }
   ],
   "source": [
    "from pyspark.sql import SparkSession\n",
    "from pyspark.ml.feature import VectorAssembler,StringIndexer,OneHotEncoder\n",
    "from pyspark.ml.clustering import KMeans\n",
    "from pyspark.ml.evaluation import ClusteringEvaluator\n",
    "import matplotlib.pyplot as plt\n",
    "from pyspark.ml.clustering import KMeans\n",
    "\n",
    "spark = SparkSession.builder.getOrCreate()\n",
    "pointsDF = spark.read.option('inferSchema','true').csv('datasets/points.txt')\n",
    "pointsDF = pointsDF.withColumnRenamed('_c0','x')\n",
    "pointsDF = pointsDF.withColumnRenamed('_c1','y')\n",
    "\n",
    "\n",
    "#pointsDF.show()\n",
    "vec = VectorAssembler(inputCols=['x','y'],outputCol='features')\n",
    "pointsDF = vec.transform(pointsDF)\n",
    "#pointsDF.show()\n",
    "k = 4\n",
    "km = KMeans().setK(k)\n",
    "kmModel =  km.fit(pointsDF)\n",
    "pointsDF = kmModel.transform(pointsDF) \n",
    "#print(kmModel.clusterCenters())\n",
    "for a in range(k):  \n",
    "    x = pointsDF.filter(pointsDF['prediction']==a).select('x').rdd.flatMap(lambda x : list(x)).collect()\n",
    "    y = pointsDF.filter(pointsDF['prediction']==a).select('y').rdd.flatMap(lambda x : list(x)).collect()\n",
    "    plt.scatter(x,y)\n",
    "for center in kmModel.clusterCenters():\n",
    "    x1 = center[0]\n",
    "    y1 = center[1]\n",
    "    plt.scatter(x1,y1)\n",
    "plt.show()\n",
    "\n",
    "#We are assigning the points to the calculated centers\n",
    "eva = ClusteringEvaluator()\n",
    "result = eva.evaluate(pointsDF)\n",
    "print(\"Evaluation Result :\",result, \"K value:\",k)"
   ]
  },
  {
   "cell_type": "code",
   "execution_count": null,
   "metadata": {},
   "outputs": [],
   "source": []
  }
 ],
 "metadata": {
  "kernelspec": {
   "display_name": "Python 3",
   "language": "python",
   "name": "python3"
  },
  "language_info": {
   "codemirror_mode": {
    "name": "ipython",
    "version": 3
   },
   "file_extension": ".py",
   "mimetype": "text/x-python",
   "name": "python",
   "nbconvert_exporter": "python",
   "pygments_lexer": "ipython3",
   "version": "3.8.3"
  }
 },
 "nbformat": 4,
 "nbformat_minor": 4
}
