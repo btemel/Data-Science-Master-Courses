{
 "cells": [
  {
   "cell_type": "code",
   "execution_count": 15,
   "metadata": {},
   "outputs": [
    {
     "data": {
      "text/plain": [
       "[('the', 14944),\n",
       " ('of', 8224),\n",
       " ('and', 7116),\n",
       " ('a', 6439),\n",
       " ('to', 4921),\n",
       " ('in', 4806),\n",
       " ('he', 3655),\n",
       " ('his', 3279),\n",
       " ('i', 2572),\n",
       " ('with', 2491)]"
      ]
     },
     "execution_count": 15,
     "metadata": {},
     "output_type": "execute_result"
    }
   ],
   "source": [
    "from pyspark import SparkContext\n",
    "import numpy as np\n",
    "sc = SparkContext.getOrCreate()\n",
    "#map, sortBy, filter\n",
    "textRDD = sc.textFile('datasets/JamesJoyce-Ulyses.txt')\n",
    "textRDD = textRDD.filter(lambda line : len(line)>1)\n",
    "textRDD = textRDD.map(lambda line : line.replace('--','').replace('***','').lower())\n",
    "textRDD = textRDD.map(lambda line : line.split())\n",
    "textRDD = textRDD.flatMap(lambda words: words) #**** (important!)\n",
    "textRDD = textRDD.map(lambda word : (word,1))\n",
    "textRDD = textRDD.reduceByKey(lambda x,y: x+y) #****  (important!)\n",
    "textRDD = textRDD.sortBy(lambda item : item[1],ascending=False)\n",
    "\n",
    "textRDD.take(10)"
   ]
  },
  {
   "cell_type": "code",
   "execution_count": 16,
   "metadata": {},
   "outputs": [],
   "source": [
    "##[[1,1,1],[4,4,4,4,4],[1,3,2],[4]] --> (flatten) [1,1,1,4,4,4,4,4,1,3,2,4]"
   ]
  },
  {
   "cell_type": "code",
   "execution_count": 25,
   "metadata": {},
   "outputs": [
    {
     "name": "stdout",
     "output_type": "stream",
     "text": [
      "[('a', 2), ('b', 8), ('c', 7), ('d', 4), ('a', 5), ('c', 12), ('a', 33), ('b', 9), ('c', 74)]\n"
     ]
    }
   ],
   "source": [
    "rdd1 = sc.parallelize([('a',2),('b',8),('c',7),('d',4),('a',5),('c',12)])\n",
    "rdd2 = sc.parallelize([('a',33),('b',9),('c',74)])\n",
    "#union\n",
    "rdd3 = rdd1.union(rdd2)\n",
    "print(rdd3.collect())"
   ]
  },
  {
   "cell_type": "code",
   "execution_count": 21,
   "metadata": {},
   "outputs": [
    {
     "name": "stdout",
     "output_type": "stream",
     "text": [
      "[('b', (8, 9)), ('c', (7, 74)), ('c', (12, 74)), ('a', (2, (33, 3, 1, 2, 12))), ('a', (5, (33, 3, 1, 2, 12)))]\n"
     ]
    }
   ],
   "source": [
    "#join\n",
    "rdd3 = rdd1.join(rdd2)\n",
    "print(rdd3.collect())"
   ]
  },
  {
   "cell_type": "code",
   "execution_count": 26,
   "metadata": {},
   "outputs": [
    {
     "name": "stdout",
     "output_type": "stream",
     "text": [
      "[(('a', 2), ('a', 33)), (('a', 2), ('b', 9)), (('a', 2), ('c', 74)), (('b', 8), ('a', 33)), (('b', 8), ('b', 9)), (('b', 8), ('c', 74)), (('c', 7), ('a', 33)), (('c', 7), ('b', 9)), (('c', 7), ('c', 74)), (('d', 4), ('a', 33)), (('d', 4), ('b', 9)), (('d', 4), ('c', 74)), (('a', 5), ('a', 33)), (('a', 5), ('b', 9)), (('a', 5), ('c', 74)), (('c', 12), ('a', 33)), (('c', 12), ('b', 9)), (('c', 12), ('c', 74))]\n"
     ]
    }
   ],
   "source": [
    "#cartresian\n",
    "rdd3 = rdd1.cartesian(rdd2)\n",
    "print(rdd3.collect())"
   ]
  },
  {
   "cell_type": "code",
   "execution_count": 27,
   "metadata": {},
   "outputs": [
    {
     "name": "stdout",
     "output_type": "stream",
     "text": [
      "[(1, 'a'), (1, 'b'), (1, 'c'), (2, 'a'), (2, 'b'), (2, 'c'), (3, 'a'), (3, 'b'), (3, 'c')]\n"
     ]
    }
   ],
   "source": [
    "rdd1 = sc.parallelize([1,2,3])\n",
    "rdd2 = sc.parallelize(['a','b','c'])\n",
    "rdd3 = rdd1.cartesian(rdd2)\n",
    "print(rdd3.collect())"
   ]
  },
  {
   "cell_type": "code",
   "execution_count": 32,
   "metadata": {},
   "outputs": [
    {
     "data": {
      "text/plain": [
       "[('Lithuania', 99)]"
      ]
     },
     "execution_count": 32,
     "metadata": {},
     "output_type": "execute_result"
    }
   ],
   "source": [
    "rdd4 = sc.textFile('datasets/world.txt')\n",
    "rdd4 = rdd4.map(lambda x : x.split(',')[0])\n",
    "rdd4 = rdd4.zipWithIndex()##You will nee this method in HW1\n",
    "\n",
    "rdd4 = rdd4.filter(lambda x: x[1]==99)\n",
    "rdd4.take(5)"
   ]
  },
  {
   "cell_type": "code",
   "execution_count": 34,
   "metadata": {},
   "outputs": [
    {
     "name": "stdout",
     "output_type": "stream",
     "text": [
      "[3, 'a']\n"
     ]
    }
   ],
   "source": [
    "#intersection\n",
    "rdd1 = sc.parallelize([1,2,3,'a'])\n",
    "rdd2 = sc.parallelize(['a','b','c',3])\n",
    "rdd3 = rdd1.intersection(rdd2)\n",
    "print(rdd3.collect())"
   ]
  },
  {
   "cell_type": "code",
   "execution_count": 36,
   "metadata": {},
   "outputs": [
    {
     "data": {
      "text/plain": [
       "[1, 'a', 2, 3, 123]"
      ]
     },
     "execution_count": 36,
     "metadata": {},
     "output_type": "execute_result"
    }
   ],
   "source": [
    "#distinct\n",
    "rdd1 = sc.parallelize([1,2,3,'a',3,3,3,3,'a',123])\n",
    "rdd1.distinct().collect()"
   ]
  },
  {
   "cell_type": "code",
   "execution_count": 39,
   "metadata": {},
   "outputs": [
    {
     "data": {
      "text/plain": [
       "[('a', [2, 5]), ('b', [8]), ('c', [7, 12]), ('d', [4])]"
      ]
     },
     "execution_count": 39,
     "metadata": {},
     "output_type": "execute_result"
    }
   ],
   "source": [
    "rdd1 = sc.parallelize([('a',2),('b',8),('c',7),('d',4),('a',5),('c',12)])\n",
    "\n",
    "rdd1.groupByKey().map(lambda x : (x[0],list(x[1]))).collect()"
   ]
  },
  {
   "cell_type": "code",
   "execution_count": 44,
   "metadata": {},
   "outputs": [
    {
     "data": {
      "text/plain": [
       "[('a', [(2, 3), 5]), ('b', [8]), ('c', [7, 12]), ('d', [4])]"
      ]
     },
     "execution_count": 44,
     "metadata": {},
     "output_type": "execute_result"
    }
   ],
   "source": [
    "rdd1 = sc.parallelize([('a',(2,3)),('b',8),('c',7),('d',4),('a',5),('c',12)])\n",
    "rdd1.groupByKey().map(lambda x : (x[0],list(x[1]))).collect()"
   ]
  },
  {
   "cell_type": "code",
   "execution_count": null,
   "metadata": {},
   "outputs": [],
   "source": []
  }
 ],
 "metadata": {
  "kernelspec": {
   "display_name": "Python 3",
   "language": "python",
   "name": "python3"
  },
  "language_info": {
   "codemirror_mode": {
    "name": "ipython",
    "version": 3
   },
   "file_extension": ".py",
   "mimetype": "text/x-python",
   "name": "python",
   "nbconvert_exporter": "python",
   "pygments_lexer": "ipython3",
   "version": "3.8.3"
  }
 },
 "nbformat": 4,
 "nbformat_minor": 4
}
