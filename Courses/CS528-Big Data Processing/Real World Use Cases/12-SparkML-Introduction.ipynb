{
 "cells": [
  {
   "cell_type": "code",
   "execution_count": 3,
   "metadata": {},
   "outputs": [
    {
     "name": "stdout",
     "output_type": "stream",
     "text": [
      "600000\n"
     ]
    }
   ],
   "source": [
    "#Tree-based model\n",
    "def housePrice(area,age,room):\n",
    "    if area > 120 :\n",
    "        if room < 3:\n",
    "            return 650000\n",
    "        else:\n",
    "            return 800000\n",
    "    else:\n",
    "        if room < 3:\n",
    "            return 550000\n",
    "        else:\n",
    "            return 600000\n",
    "\n",
    "print(housePrice(110,5,4,23.5,12.3))"
   ]
  },
  {
   "cell_type": "code",
   "execution_count": 5,
   "metadata": {},
   "outputs": [
    {
     "name": "stdout",
     "output_type": "stream",
     "text": [
      "410000\n"
     ]
    }
   ],
   "source": [
    "#Linear model\n",
    "def housePrice2(area,age,room):\n",
    "    return 1000*area + -20000*age + 100000*room \n",
    "print(housePrice2(110,5,4,23.5,12.3))"
   ]
  },
  {
   "cell_type": "code",
   "execution_count": 40,
   "metadata": {},
   "outputs": [
    {
     "name": "stdout",
     "output_type": "stream",
     "text": [
      "+----+---+----+------+----------------+\n",
      "|area|age|room| label|        features|\n",
      "+----+---+----+------+----------------+\n",
      "| 120|  5|   3|500000| [120.0,5.0,3.0]|\n",
      "| 190|  0|   4|998000| [190.0,0.0,4.0]|\n",
      "|  90|  4|   2|430000|  [90.0,4.0,2.0]|\n",
      "| 110|  2|   2|530000| [110.0,2.0,2.0]|\n",
      "| 120|  4|   3|530000| [120.0,4.0,3.0]|\n",
      "| 200| 10|   4|900000|[200.0,10.0,4.0]|\n",
      "+----+---+----+------+----------------+\n",
      "\n",
      "Machine learned\n"
     ]
    }
   ],
   "source": [
    "from pyspark.sql import SparkSession\n",
    "from pyspark.ml.feature import VectorAssembler\n",
    "from pyspark.ml.regression import DecisionTreeRegressor\n",
    "\n",
    "spark = SparkSession.builder.getOrCreate()\n",
    "houseDF = spark.read.option('header','true').option('delimiter',';').option('inferSchema','true').csv('datasets/house-prices-april6.csv')\n",
    "\n",
    "houseDF = houseDF.withColumnRenamed('price','label')\n",
    "vec = VectorAssembler(inputCols=['area','age','room'],outputCol='features')\n",
    "houseDF = vec.transform(houseDF)\n",
    "houseDF.show()\n",
    "\n",
    "dtRegressor = DecisionTreeRegressor()\n",
    "model = dtRegressor.fit(houseDF) #Machine learned!!!!\n",
    "print('Machine learned')"
   ]
  },
  {
   "cell_type": "code",
   "execution_count": 34,
   "metadata": {},
   "outputs": [
    {
     "name": "stdout",
     "output_type": "stream",
     "text": [
      "DecisionTreeRegressionModel: uid=DecisionTreeRegressor_f50d61f8ec7b, depth=3, numNodes=9, numFeatures=3\n",
      "  If (feature 0 <= 155.0)\n",
      "   If (feature 0 <= 100.0)\n",
      "    Predict: 430000.0\n",
      "   Else (feature 0 > 100.0)\n",
      "    If (feature 1 <= 5.0)\n",
      "     Predict: 530000.0\n",
      "    Else (feature 1 > 5.0)\n",
      "     Predict: 500000.0\n",
      "  Else (feature 0 > 155.0)\n",
      "   If (feature 0 <= 195.0)\n",
      "    Predict: 998000.0\n",
      "   Else (feature 0 > 195.0)\n",
      "    Predict: 900000.0\n",
      "\n"
     ]
    }
   ],
   "source": [
    "print(model.toDebugString)"
   ]
  },
  {
   "cell_type": "code",
   "execution_count": 35,
   "metadata": {},
   "outputs": [],
   "source": [
    "def learnedTreeBasedModelFromData(area,age,room):\n",
    "    if (area <= 155.0):\n",
    "        if (area <= 100.0):\n",
    "            return 430000.0\n",
    "        elif (area > 100.0):\n",
    "            if(age <= 5.0):\n",
    "                return 530000.0\n",
    "            elif (age > 5.0):\n",
    "                return 500000.0\n",
    "    elif (area  > 155.0):\n",
    "        if (area  <= 195.0):\n",
    "            return 998000.0\n",
    "        else:\n",
    "            return 900000.0"
   ]
  },
  {
   "cell_type": "code",
   "execution_count": 38,
   "metadata": {},
   "outputs": [
    {
     "name": "stdout",
     "output_type": "stream",
     "text": [
      "900000.0\n",
      "+----+---+----+----------------+----------+\n",
      "|area|age|room|        features|prediction|\n",
      "+----+---+----+----------------+----------+\n",
      "| 180| 10|   3|[180.0,10.0,3.0]|  998000.0|\n",
      "| 210|  5|   4| [210.0,5.0,4.0]|  900000.0|\n",
      "|  90|  3|   2|  [90.0,3.0,2.0]|  430000.0|\n",
      "| 170|  3|   3| [170.0,3.0,3.0]|  998000.0|\n",
      "+----+---+----+----------------+----------+\n",
      "\n"
     ]
    }
   ],
   "source": [
    "print( learnedTreeBasedModelFromData(120,6,3))\n",
    "newhousesDF = spark.read.option('header','true').option('delimiter',';').option('inferSchema','true').csv('datasets/newhouses-april6.csv')\n",
    "newhousesDF = vec.transform(newhousesDF)\n",
    "newhousesDF = model.transform(newhousesDF) #Prediction\n",
    "newhousesDF.show()"
   ]
  },
  {
   "cell_type": "code",
   "execution_count": 26,
   "metadata": {},
   "outputs": [
    {
     "name": "stdout",
     "output_type": "stream",
     "text": [
      "+----+---+----+------+----------------+\n",
      "|area|age|room| label|        features|\n",
      "+----+---+----+------+----------------+\n",
      "| 120|  6|   3|500000| [120.0,6.0,3.0]|\n",
      "| 190|  0|   4|998000| [190.0,0.0,4.0]|\n",
      "|  90|  4|   2|430000|  [90.0,4.0,2.0]|\n",
      "| 110|  2|   2|530000| [110.0,2.0,2.0]|\n",
      "| 120|  4|   3|530000| [120.0,4.0,3.0]|\n",
      "| 200| 10|   4|900000|[200.0,10.0,4.0]|\n",
      "+----+---+----+------+----------------+\n",
      "\n",
      "Machine learned\n"
     ]
    }
   ],
   "source": [
    "from pyspark.sql import SparkSession\n",
    "from pyspark.ml.feature import VectorAssembler\n",
    "from pyspark.ml.regression import LinearRegression\n",
    "\n",
    "spark = SparkSession.builder.getOrCreate()\n",
    "houseDF = spark.read.option('header','true').option('delimiter',';').option('inferSchema','true').csv('datasets/house-prices-april6.csv')\n",
    "\n",
    "houseDF = houseDF.withColumnRenamed('price','label')\n",
    "vec = VectorAssembler(inputCols=['area','age','room'],outputCol='features')\n",
    "houseDF = vec.transform(houseDF)\n",
    "houseDF.show()\n",
    "\n",
    "linearRegressor = LinearRegression()\n",
    "model = linearRegressor.fit(houseDF) #Machine learned!!!!\n",
    "print('Machine learned')"
   ]
  },
  {
   "cell_type": "code",
   "execution_count": 27,
   "metadata": {},
   "outputs": [
    {
     "name": "stdout",
     "output_type": "stream",
     "text": [
      "Coefs :  [6137.628742514902,-15272.574850299521,-41764.790419158424]\n",
      "Intercept :  -9563.113772454697\n"
     ]
    }
   ],
   "source": [
    "print('Coefs : ',model.coefficients)\n",
    "print('Intercept : ',model.intercept)"
   ]
  },
  {
   "cell_type": "code",
   "execution_count": 28,
   "metadata": {},
   "outputs": [
    {
     "data": {
      "text/plain": [
       "509953"
      ]
     },
     "execution_count": 28,
     "metadata": {},
     "output_type": "execute_result"
    }
   ],
   "source": [
    "def learnedLinearModelFromData(area,age,room):\n",
    "    price = 6137 * area + (-15272)*age + (-41764)*room + (-9563)\n",
    "    return price\n",
    "\n",
    "learnedLinearModelFromData(120,6,3)"
   ]
  },
  {
   "cell_type": "code",
   "execution_count": 31,
   "metadata": {},
   "outputs": [
    {
     "name": "stdout",
     "output_type": "stream",
     "text": [
      "+----+---+----+----------------+------------------+\n",
      "|area|age|room|        features|        prediction|\n",
      "+----+---+----+----------------+------------------+\n",
      "| 180| 10|   3|[180.0,10.0,3.0]| 817189.9401197573|\n",
      "| 210|  5|   4| [210.0,5.0,4.0]|1035916.8862275435|\n",
      "|  90|  3|   2|  [90.0,3.0,2.0]| 413476.1676646712|\n",
      "| 170|  3|   3| [170.0,3.0,3.0]| 862721.6766467049|\n",
      "+----+---+----+----------------+------------------+\n",
      "\n"
     ]
    }
   ],
   "source": [
    "newhousesDF = spark.read.option('header','true').option('delimiter',';').option('inferSchema','true').csv('datasets/newhouses-april6.csv')\n",
    "newhousesDF = vec.transform(newhousesDF)\n",
    "newhousesDF = model.transform(newhousesDF) #Prediction\n",
    "newhousesDF.show()"
   ]
  },
  {
   "cell_type": "code",
   "execution_count": null,
   "metadata": {},
   "outputs": [],
   "source": []
  }
 ],
 "metadata": {
  "kernelspec": {
   "display_name": "Python 3",
   "language": "python",
   "name": "python3"
  },
  "language_info": {
   "codemirror_mode": {
    "name": "ipython",
    "version": 3
   },
   "file_extension": ".py",
   "mimetype": "text/x-python",
   "name": "python",
   "nbconvert_exporter": "python",
   "pygments_lexer": "ipython3",
   "version": "3.8.3"
  }
 },
 "nbformat": 4,
 "nbformat_minor": 4
}
