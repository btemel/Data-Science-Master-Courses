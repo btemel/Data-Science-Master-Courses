{
 "cells": [
  {
   "cell_type": "code",
   "execution_count": 1,
   "metadata": {},
   "outputs": [
    {
     "name": "stdout",
     "output_type": "stream",
     "text": [
      "Accuracy :  0.7966269841269842\n",
      "+--------------------+-----+--------------------+--------------------+----------+\n",
      "|            features|label|       rawPrediction|         probability|prediction|\n",
      "+--------------------+-----+--------------------+--------------------+----------+\n",
      "|(4000,[1,19,215,3...|    0|[10.6824717469211...|[0.53412358734605...|       0.0|\n",
      "|(4000,[1,452,847,...|    1|[10.5977503688360...|[0.52988751844180...|       0.0|\n",
      "|(4000,[4,6,194,38...|    0|[10.5046573669400...|[0.52523286834700...|       0.0|\n",
      "|(4000,[4,120,215,...|    0|[10.5715373191994...|[0.52857686595997...|       0.0|\n",
      "|(4000,[5,120,592,...|    1|[9.23344876423652...|[0.46167243821182...|       1.0|\n",
      "|(4000,[5,215,265,...|    0|[10.4189639056833...|[0.52094819528416...|       0.0|\n",
      "|(4000,[5,354,676,...|    0|[11.3251850960092...|[0.56625925480046...|       0.0|\n",
      "|(4000,[5,366,844,...|    1|[10.5624623395617...|[0.52812311697808...|       0.0|\n",
      "|(4000,[5,534,853,...|    0|[10.8156563009385...|[0.54078281504692...|       0.0|\n",
      "|(4000,[5,824,886,...|    0|[10.8130808804354...|[0.54065404402177...|       0.0|\n",
      "|(4000,[6,270,278,...|    1|[9.69428101174438...|[0.48471405058721...|       1.0|\n",
      "|(4000,[9,57,138,1...|    1|[10.6525286812424...|[0.53262643406212...|       0.0|\n",
      "|(4000,[10,681,790...|    0|[11.2790580386018...|[0.56395290193009...|       0.0|\n",
      "|(4000,[12,215,123...|    0|[10.5144690268990...|[0.52572345134495...|       0.0|\n",
      "|(4000,[15,57,518,...|    1|[9.67389305115270...|[0.48369465255763...|       1.0|\n",
      "|(4000,[16,129,225...|    0|[9.40436763692399...|[0.47021838184619...|       1.0|\n",
      "|(4000,[17,41,64,3...|    1|[10.3186187857230...|[0.51593093928615...|       0.0|\n",
      "|(4000,[17,45,219,...|    0|[9.07977249939419...|[0.45398862496970...|       1.0|\n",
      "|(4000,[19,32,242,...|    0|[9.15344457639769...|[0.45767222881988...|       1.0|\n",
      "|(4000,[20,187,329...|    1|[9.64361353512638...|[0.48218067675631...|       1.0|\n",
      "+--------------------+-----+--------------------+--------------------+----------+\n",
      "only showing top 20 rows\n",
      "\n"
     ]
    }
   ],
   "source": [
    "from pyspark.sql import SparkSession\n",
    "from pyspark.ml.feature import Tokenizer,StopWordsRemover,HashingTF,IDF\n",
    "from pyspark.ml.classification import RandomForestClassifier\n",
    "from pyspark.ml.evaluation import BinaryClassificationEvaluator\n",
    "from pyspark.ml.tuning import TrainValidationSplit,ParamGridBuilder\n",
    "from pyspark.sql.functions import UserDefinedFunction\n",
    "from pyspark.sql.types import StringType\n",
    "\n",
    "def removePunctuation(text):\n",
    "    text = text.replace('.','')\n",
    "    text = text.replace(',','')\n",
    "    text = text.replace(';','')\n",
    "    text = text.replace(':','')\n",
    "    text = text.replace('ç','c')\n",
    "    text = text.replace('ş','s')\n",
    "    return text\n",
    "\n",
    "spark = SparkSession.builder.getOrCreate()\n",
    "textDF = spark.read.option('delimiter','\\t').option('inferSchema','true').csv('datasets/movie_turkish_train.txt')\n",
    "textDF = textDF.withColumnRenamed('_c0','orig')\n",
    "textDF = textDF.withColumnRenamed('_c1','label')\n",
    "\n",
    "myUDF = UserDefinedFunction(removePunctuation,StringType())\n",
    "\n",
    "textDF = textDF.withColumn('Text',myUDF('orig'))\n",
    "\n",
    "\n",
    "#textDF.show()\n",
    "tokenizer = Tokenizer(inputCol='Text',outputCol='tokenized')\n",
    "textDF = tokenizer.transform(textDF)\n",
    "\n",
    "trStopWords = StopWordsRemover.loadDefaultStopWords('turkish')\n",
    "sRemover = StopWordsRemover(inputCol='tokenized',outputCol='removed',stopWords=trStopWords)\n",
    "textDF = sRemover.transform(textDF)\n",
    "\n",
    "vSize = 4000\n",
    "\n",
    "tf = HashingTF(inputCol='removed',outputCol='tf',numFeatures=vSize)\n",
    "textDF = tf.transform(textDF)\n",
    "idf = IDF(inputCol='tf',outputCol='features')\n",
    "textDF = idf.fit(textDF).transform(textDF)\n",
    "#textDF.show()\n",
    "\n",
    "textDF = textDF.select('features','label')\n",
    "trainDF, testDF = textDF.randomSplit([0.75,0.25],seed=123) \n",
    "\n",
    "rfClassifier= RandomForestClassifier()\n",
    "model = rfClassifier.fit(trainDF)\n",
    "\n",
    "resultDF = model.transform(testDF)\n",
    "\n",
    "eva = BinaryClassificationEvaluator()\n",
    "successRate = eva.evaluate(resultDF)\n",
    "print(\"Accuracy : \",successRate)\n",
    "resultDF.show()"
   ]
  },
  {
   "cell_type": "code",
   "execution_count": null,
   "metadata": {},
   "outputs": [],
   "source": [
    "import pyspark.sql.functions as F\n",
    "\n",
    "df2 = df.select(\n",
    "    [F.regexp_replace(col, r',|\\.|&|\\\\|\\||-|_', '').alias(col) for col in df.columns]\n",
    ")"
   ]
  }
 ],
 "metadata": {
  "kernelspec": {
   "display_name": "Python 3",
   "language": "python",
   "name": "python3"
  },
  "language_info": {
   "codemirror_mode": {
    "name": "ipython",
    "version": 3
   },
   "file_extension": ".py",
   "mimetype": "text/x-python",
   "name": "python",
   "nbconvert_exporter": "python",
   "pygments_lexer": "ipython3",
   "version": "3.8.3"
  }
 },
 "nbformat": 4,
 "nbformat_minor": 4
}
