{
 "cells": [
  {
   "cell_type": "code",
   "execution_count": 3,
   "metadata": {},
   "outputs": [
    {
     "name": "stdout",
     "output_type": "stream",
     "text": [
      "Accuracy :  0.9772727272727273\n",
      "Model saved.\n"
     ]
    }
   ],
   "source": [
    "from pyspark.sql import SparkSession\n",
    "from pyspark.ml.feature import VectorAssembler,StringIndexer,OneHotEncoder\n",
    "from pyspark.ml.classification import DecisionTreeClassifier\n",
    "from pyspark.ml.evaluation import MulticlassClassificationEvaluator\n",
    "\n",
    "spark = SparkSession.builder.getOrCreate()\n",
    "irisDF = spark.read.option('header','true').option('inferSchema','true').csv('datasets/iris-dataset.txt')\n",
    "indexer = StringIndexer(inputCol='class',outputCol='label')\n",
    "indexerModel = indexer.fit(irisDF)\n",
    "irisDF = indexerModel.transform(irisDF)\n",
    "#print(irisDF.columns[0:4])\n",
    "vec = VectorAssembler(inputCols=irisDF.columns[0:4],outputCol='features')\n",
    "irisDF = vec.transform(irisDF)\n",
    "irisDF =irisDF.select('features','label')\n",
    "\n",
    "trainDF, testDF = irisDF.randomSplit([0.75,0.25],seed=1234)\n",
    "\n",
    "classifier = DecisionTreeClassifier()\n",
    "model = classifier.fit(trainDF)#Training date iss used to create model\n",
    "resultDF = model.transform(testDF)\n",
    "\n",
    "eva = MulticlassClassificationEvaluator(metricName='accuracy')\n",
    "\n",
    "result = eva.evaluate(resultDF)\n",
    "print(\"Accuracy : \",result)\n",
    "if result > 0.96:\n",
    "    model.save('dtModel')\n",
    "    print(\"Model saved.\")"
   ]
  },
  {
   "cell_type": "code",
   "execution_count": 4,
   "metadata": {},
   "outputs": [
    {
     "name": "stdout",
     "output_type": "stream",
     "text": [
      "+------------+-----------+------------+-----------+-----------------+--------------+-------------+----------+\n",
      "|sepal-length|sepal-width|petal-length|petal-width|         features| rawPrediction|  probability|prediction|\n",
      "+------------+-----------+------------+-----------+-----------------+--------------+-------------+----------+\n",
      "|         5.1|        3.5|         1.4|        0.2|[5.1,3.5,1.4,0.2]|[34.0,0.0,0.0]|[1.0,0.0,0.0]|       0.0|\n",
      "|         6.3|        2.5|         4.9|        1.5|[6.3,2.5,4.9,1.5]|[0.0,32.0,0.0]|[0.0,1.0,0.0]|       1.0|\n",
      "|         6.1|        2.8|         4.7|        1.2|[6.1,2.8,4.7,1.2]|[0.0,32.0,0.0]|[0.0,1.0,0.0]|       1.0|\n",
      "|         6.9|        3.1|         5.1|        2.3|[6.9,3.1,5.1,2.3]|[0.0,0.0,33.0]|[0.0,0.0,1.0]|       2.0|\n",
      "|         4.9|        3.0|         1.4|        0.2|[4.9,3.0,1.4,0.2]|[34.0,0.0,0.0]|[1.0,0.0,0.0]|       0.0|\n",
      "|         5.9|        3.2|         4.8|        1.8|[5.9,3.2,4.8,1.8]| [0.0,1.0,0.0]|[0.0,1.0,0.0]|       1.0|\n",
      "|         6.1|        2.8|         4.0|        1.3|[6.1,2.8,4.0,1.3]|[0.0,32.0,0.0]|[0.0,1.0,0.0]|       1.0|\n",
      "|         6.9|        3.1|         5.4|        2.1|[6.9,3.1,5.4,2.1]|[0.0,0.0,33.0]|[0.0,0.0,1.0]|       2.0|\n",
      "|         6.7|        3.1|         5.6|        2.4|[6.7,3.1,5.6,2.4]|[0.0,0.0,33.0]|[0.0,0.0,1.0]|       2.0|\n",
      "|         5.8|        2.7|         5.1|        1.9|[5.8,2.7,5.1,1.9]|[0.0,0.0,33.0]|[0.0,0.0,1.0]|       2.0|\n",
      "+------------+-----------+------------+-----------+-----------------+--------------+-------------+----------+\n",
      "\n"
     ]
    }
   ],
   "source": [
    "from pyspark.ml.classification import DecisionTreeClassificationModel \n",
    "model = DecisionTreeClassificationModel.load('dtModel')\n",
    "newDF = spark.read.option('header','true').option('inferSchema','true').csv('datasets/new-transactions.txt')\n",
    "newDF = vec.transform(newDF)\n",
    "newTransactionsFroudDF = model.transform(newDF)\n",
    "newTransactionsFroudDF.show()"
   ]
  },
  {
   "cell_type": "code",
   "execution_count": null,
   "metadata": {},
   "outputs": [],
   "source": []
  }
 ],
 "metadata": {
  "kernelspec": {
   "display_name": "Python 3",
   "language": "python",
   "name": "python3"
  },
  "language_info": {
   "codemirror_mode": {
    "name": "ipython",
    "version": 3
   },
   "file_extension": ".py",
   "mimetype": "text/x-python",
   "name": "python",
   "nbconvert_exporter": "python",
   "pygments_lexer": "ipython3",
   "version": "3.8.3"
  }
 },
 "nbformat": 4,
 "nbformat_minor": 4
}
