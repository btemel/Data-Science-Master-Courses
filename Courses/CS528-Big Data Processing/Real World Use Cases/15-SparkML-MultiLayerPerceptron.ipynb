{
 "cells": [
  {
   "cell_type": "code",
   "execution_count": 4,
   "metadata": {},
   "outputs": [
    {
     "name": "stdout",
     "output_type": "stream",
     "text": [
      "+-----------------+-----+--------------------+--------------------+----------+\n",
      "|         features|label|       rawPrediction|         probability|prediction|\n",
      "+-----------------+-----+--------------------+--------------------+----------+\n",
      "|[4.4,2.9,1.4,0.2]|  0.0|[161.205433561884...|[1.0,1.8312358597...|       0.0|\n",
      "|[4.5,2.3,1.3,0.3]|  0.0|[161.205433561884...|[1.0,1.8312358597...|       0.0|\n",
      "|[4.9,3.1,1.5,0.1]|  0.0|[161.205433561884...|[1.0,1.8312358597...|       0.0|\n",
      "|[5.0,3.0,1.6,0.2]|  0.0|[161.205433561884...|[1.0,1.8312358597...|       0.0|\n",
      "|[5.0,3.2,1.2,0.2]|  0.0|[161.205433561884...|[1.0,1.8312358597...|       0.0|\n",
      "|[5.0,3.3,1.4,0.2]|  0.0|[161.205433561884...|[1.0,1.8312358597...|       0.0|\n",
      "|[5.0,3.4,1.5,0.2]|  0.0|[161.205433561884...|[1.0,1.8312358597...|       0.0|\n",
      "|[5.0,3.5,1.3,0.3]|  0.0|[161.205433561884...|[1.0,1.8312358597...|       0.0|\n",
      "|[5.0,3.6,1.4,0.2]|  0.0|[161.205433561884...|[1.0,1.8312358597...|       0.0|\n",
      "|[5.1,2.5,3.0,1.1]|  1.0|[161.205433561884...|[1.0,1.8312358597...|       0.0|\n",
      "|[5.1,3.5,1.4,0.3]|  0.0|[161.205433561884...|[1.0,1.8312358597...|       0.0|\n",
      "|[5.3,3.7,1.5,0.2]|  0.0|[161.205433561884...|[1.0,1.8312358597...|       0.0|\n",
      "|[5.4,3.4,1.5,0.4]|  0.0|[161.205433561884...|[1.0,1.8312358597...|       0.0|\n",
      "|[5.5,2.3,4.0,1.3]|  1.0|[-399.08999918967...|[8.1697707274E-31...|       1.0|\n",
      "|[5.5,2.6,4.4,1.2]|  1.0|[-399.08999918967...|[8.1697707274E-31...|       1.0|\n",
      "|[5.5,3.5,1.3,0.2]|  0.0|[161.205433561884...|[1.0,1.8312358597...|       0.0|\n",
      "|[5.5,4.2,1.4,0.2]|  0.0|[161.205433561884...|[1.0,1.8312358597...|       0.0|\n",
      "|[5.6,3.0,4.1,1.3]|  1.0|[-399.08999918967...|[8.1697707274E-31...|       1.0|\n",
      "|[5.7,2.6,3.5,1.0]|  1.0|[-399.08999918967...|[8.1697707274E-31...|       1.0|\n",
      "|[5.7,2.9,4.2,1.3]|  1.0|[-399.08999918967...|[8.1697707274E-31...|       1.0|\n",
      "+-----------------+-----+--------------------+--------------------+----------+\n",
      "only showing top 20 rows\n",
      "\n",
      "Accuracy :  0.9545454545454546\n"
     ]
    }
   ],
   "source": [
    "from pyspark.sql import SparkSession\n",
    "from pyspark.ml.feature import VectorAssembler,StringIndexer,OneHotEncoder\n",
    "from pyspark.ml.classification import MultilayerPerceptronClassifier\n",
    "from pyspark.ml.evaluation import MulticlassClassificationEvaluator\n",
    "\n",
    "spark = SparkSession.builder.getOrCreate()\n",
    "irisDF = spark.read.option('header','true').option('inferSchema','true').csv('datasets/iris-dataset.txt')\n",
    "indexer = StringIndexer(inputCol='class',outputCol='label')\n",
    "indexerModel = indexer.fit(irisDF)\n",
    "irisDF = indexerModel.transform(irisDF)\n",
    "#print(irisDF.columns[0:4])\n",
    "vec = VectorAssembler(inputCols=irisDF.columns[0:4],outputCol='features')\n",
    "irisDF = vec.transform(irisDF)\n",
    "irisDF =irisDF.select('features','label')\n",
    "\n",
    "trainDF, testDF = irisDF.randomSplit([0.75,0.25],seed=1234)\n",
    "\n",
    "classifier = MultilayerPerceptronClassifier(layers=[4,2,3])\n",
    "model = classifier.fit(trainDF) #Train data should be used to create model\n",
    "\n",
    "resultDF = model.transform(testDF)\n",
    "resultDF.show()\n",
    "eva = MulticlassClassificationEvaluator(metricName='accuracy')\n",
    "accuracy = eva.evaluate(resultDF)\n",
    "print(\"Accuracy : \",accuracy)"
   ]
  },
  {
   "cell_type": "code",
   "execution_count": null,
   "metadata": {},
   "outputs": [],
   "source": []
  }
 ],
 "metadata": {
  "kernelspec": {
   "display_name": "Python 3",
   "language": "python",
   "name": "python3"
  },
  "language_info": {
   "codemirror_mode": {
    "name": "ipython",
    "version": 3
   },
   "file_extension": ".py",
   "mimetype": "text/x-python",
   "name": "python",
   "nbconvert_exporter": "python",
   "pygments_lexer": "ipython3",
   "version": "3.8.3"
  }
 },
 "nbformat": 4,
 "nbformat_minor": 4
}
